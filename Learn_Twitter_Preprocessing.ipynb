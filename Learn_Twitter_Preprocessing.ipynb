{
  "nbformat": 4,
  "nbformat_minor": 0,
  "metadata": {
    "colab": {
      "name": "Learn: Twitter Preprocessing",
      "provenance": [],
      "collapsed_sections": [
        "2fm5ngo4h0BI",
        "HxgotgQah6hH",
        "IlqE8nadiW0D",
        "FR8pAFNYxYsk"
      ],
      "authorship_tag": "ABX9TyPHkQ0XfZYEBZUrc/M8NiGq",
      "include_colab_link": true
    },
    "kernelspec": {
      "name": "python3",
      "display_name": "Python 3"
    },
    "language_info": {
      "name": "python"
    }
  },
  "cells": [
    {
      "cell_type": "markdown",
      "metadata": {
        "id": "view-in-github",
        "colab_type": "text"
      },
      "source": [
        "<a href=\"https://colab.research.google.com/github/tarangga/Workspace-CICP-Twitter-Preprocessing/blob/main/Learn_Twitter_Preprocessing.ipynb\" target=\"_parent\"><img src=\"https://colab.research.google.com/assets/colab-badge.svg\" alt=\"Open In Colab\"/></a>"
      ]
    },
    {
      "cell_type": "markdown",
      "source": [
        "# Case Folding"
      ],
      "metadata": {
        "id": "2fm5ngo4h0BI"
      }
    },
    {
      "cell_type": "code",
      "source": [
        "doc1 = 'makan'\n",
        "doc2 = 'Makan'\n",
        "\n",
        "doc1 == doc2"
      ],
      "metadata": {
        "id": "dJu_bvx5iAcT"
      },
      "execution_count": null,
      "outputs": []
    },
    {
      "cell_type": "code",
      "source": [
        "new_doc2 = doc2.lower()\n",
        "new_doc2"
      ],
      "metadata": {
        "id": "VQa9dusuiKKH"
      },
      "execution_count": null,
      "outputs": []
    },
    {
      "cell_type": "code",
      "source": [
        "doc1 == new_doc2"
      ],
      "metadata": {
        "id": "IxmIXKC4iRmz"
      },
      "execution_count": null,
      "outputs": []
    },
    {
      "cell_type": "markdown",
      "source": [
        "# Pembersihan URL, Mention, Hastag, reserve words, EMOJI, Smiley, Number "
      ],
      "metadata": {
        "id": "HxgotgQah6hH"
      }
    },
    {
      "cell_type": "code",
      "source": [
        "! pip install tweet-preprocessor"
      ],
      "metadata": {
        "id": "ceVZCpquRxYk"
      },
      "execution_count": null,
      "outputs": []
    },
    {
      "cell_type": "code",
      "source": [
        "text = 'kerja pemerintah memang nomor 1 #awesome 👍 https://xyz.co.id'"
      ],
      "metadata": {
        "id": "NOw4FDk0eLYo"
      },
      "execution_count": null,
      "outputs": []
    },
    {
      "cell_type": "code",
      "source": [
        "import preprocessor as p"
      ],
      "metadata": {
        "id": "Bu75OYtZdnHj"
      },
      "execution_count": null,
      "outputs": []
    },
    {
      "cell_type": "code",
      "source": [
        "p.set_options(p.OPT.URL)\n",
        "p.clean(text)"
      ],
      "metadata": {
        "id": "ZoEX5NmliYS1"
      },
      "execution_count": null,
      "outputs": []
    },
    {
      "cell_type": "code",
      "source": [
        "p.set_options(p.OPT.MENTION)\n",
        "p.clean(text)"
      ],
      "metadata": {
        "id": "89hcgYqseTWf"
      },
      "execution_count": null,
      "outputs": []
    },
    {
      "cell_type": "code",
      "source": [
        "p.set_options(p.OPT.HASHTAG, p.OPT.NUMBER)\n",
        "p.clean(text)"
      ],
      "metadata": {
        "id": "_afEEq-EndNa"
      },
      "execution_count": null,
      "outputs": []
    },
    {
      "cell_type": "markdown",
      "source": [
        "# Menghapus tanda baca"
      ],
      "metadata": {
        "id": "IlqE8nadiW0D"
      }
    },
    {
      "cell_type": "code",
      "source": [
        "import re\n",
        "\n",
        "re.sub(r'[^\\w\\s]', ' ', 'dia sedang, makan')"
      ],
      "metadata": {
        "id": "TqVrptfRiZiz"
      },
      "execution_count": null,
      "outputs": []
    },
    {
      "cell_type": "markdown",
      "source": [
        "# Speeling Correction"
      ],
      "metadata": {
        "id": "obiIwQ0NjkLT"
      }
    },
    {
      "cell_type": "code",
      "source": [
        "! git clone https://github.com/meisaputri21/Indonesian-Twitter-Emotion-Dataset/"
      ],
      "metadata": {
        "id": "g4z-eW9ljpP4"
      },
      "execution_count": null,
      "outputs": []
    },
    {
      "cell_type": "code",
      "source": [
        "f = open('/content/Indonesian-Twitter-Emotion-Dataset/kamus_singkatan.csv').read().strip()\n",
        "print(f)"
      ],
      "metadata": {
        "id": "5_pBgZ_1jzZA"
      },
      "execution_count": null,
      "outputs": []
    },
    {
      "cell_type": "code",
      "source": [
        "arr = f.split('\\n')\n",
        "arr"
      ],
      "metadata": {
        "id": "z5-J2P-Hj7hu"
      },
      "execution_count": null,
      "outputs": []
    },
    {
      "cell_type": "code",
      "source": [
        "arr = [a.split(';') for a in arr]\n",
        "arr"
      ],
      "metadata": {
        "id": "AVFFCW7lkSjD"
      },
      "execution_count": null,
      "outputs": []
    },
    {
      "cell_type": "code",
      "source": [
        "cor = {kv[0].strip(): kv[1].strip() for kv in arr}\n",
        "cor"
      ],
      "metadata": {
        "id": "ZW0hw1KlkUsn"
      },
      "execution_count": null,
      "outputs": []
    },
    {
      "cell_type": "code",
      "source": [
        "def correction(sentence, cor=cor):\n",
        "  new_sentence = \"\"\n",
        "  for word in sentence.split():\n",
        "    if word in cor.keys():\n",
        "      new_sentence = new_sentence + cor[word] + ' '\n",
        "    else:\n",
        "      new_sentence = new_sentence + word + ' '\n",
        "  return new_sentence"
      ],
      "metadata": {
        "id": "G_U6gifokyhp"
      },
      "execution_count": null,
      "outputs": []
    },
    {
      "cell_type": "code",
      "source": [
        "correction('sy sdh mkn nasi')"
      ],
      "metadata": {
        "id": "VMybnLXxlfl8"
      },
      "execution_count": null,
      "outputs": []
    },
    {
      "cell_type": "markdown",
      "source": [
        "# Stopword"
      ],
      "metadata": {
        "id": "xYYemIHYMwLV"
      }
    },
    {
      "cell_type": "markdown",
      "source": [
        "## Sastrawi"
      ],
      "metadata": {
        "id": "FR8pAFNYxYsk"
      }
    },
    {
      "cell_type": "code",
      "source": [
        "! pip install Sastrawi"
      ],
      "metadata": {
        "id": "K3SM4FCQM4g6"
      },
      "execution_count": null,
      "outputs": []
    },
    {
      "cell_type": "code",
      "source": [
        "from Sastrawi.StopWordRemover.StopWordRemoverFactory import StopWordRemoverFactory\n",
        "factory = StopWordRemoverFactory()\n",
        "stopword = factory.create_stop_word_remover()"
      ],
      "metadata": {
        "id": "P0m-hEmyNX9X"
      },
      "execution_count": null,
      "outputs": []
    },
    {
      "cell_type": "code",
      "source": [
        "factory.get_stop_words()"
      ],
      "metadata": {
        "id": "PUu3EGzAOyKX"
      },
      "execution_count": null,
      "outputs": []
    },
    {
      "cell_type": "code",
      "source": [
        "stopword.remove('saya sekali-kali jalan-jalan ke amerika')"
      ],
      "metadata": {
        "id": "QgM68rUgNrzl"
      },
      "execution_count": null,
      "outputs": []
    },
    {
      "cell_type": "markdown",
      "source": [
        "## Spacy"
      ],
      "metadata": {
        "id": "exURulz9xcNs"
      }
    },
    {
      "cell_type": "code",
      "source": [
        "from spacy.lang.id import STOP_WORDS"
      ],
      "metadata": {
        "id": "n6gZQnYuxeBe"
      },
      "execution_count": null,
      "outputs": []
    },
    {
      "cell_type": "code",
      "source": [
        "STOP_WORDS"
      ],
      "metadata": {
        "id": "SwDV-w1Cxjzj"
      },
      "execution_count": null,
      "outputs": []
    },
    {
      "cell_type": "code",
      "source": [
        "def remove_stopword(text, stopwords):\n",
        "  new_text = ''\n",
        "  for word in text.split():\n",
        "    if word not in stopwords:\n",
        "      new_text = new_text + word + ' '\n",
        "  return new_text"
      ],
      "metadata": {
        "id": "2m-23HIRxrku"
      },
      "execution_count": null,
      "outputs": []
    },
    {
      "cell_type": "code",
      "source": [
        "remove_stopword('saya sekali-kali jalan-jalan ke amerika', STOP_WORDS)"
      ],
      "metadata": {
        "id": "T_3_okWtyKk_"
      },
      "execution_count": null,
      "outputs": []
    },
    {
      "cell_type": "markdown",
      "source": [
        "## Stopword Buatan Sendiri"
      ],
      "metadata": {
        "id": "s9-6zUG0yzCS"
      }
    },
    {
      "cell_type": "code",
      "source": [
        "my_stopword = ['saya', 'sekali-kali']"
      ],
      "metadata": {
        "id": "Ys7ldsQAzAni"
      },
      "execution_count": null,
      "outputs": []
    },
    {
      "cell_type": "code",
      "source": [
        "remove_stopword('saya sekali-kali jalan-jalan ke amerika', my_stopword)"
      ],
      "metadata": {
        "id": "KBvWvF-qy_ny"
      },
      "execution_count": null,
      "outputs": []
    },
    {
      "cell_type": "markdown",
      "source": [
        "# Gabungkan Semua"
      ],
      "metadata": {
        "id": "OcGFNkGoGTB2"
      }
    },
    {
      "cell_type": "code",
      "source": [
        "import pandas as pd"
      ],
      "metadata": {
        "id": "RMddxqqon0mz"
      },
      "execution_count": null,
      "outputs": []
    },
    {
      "cell_type": "code",
      "source": [
        "df = pd.read_csv('/content/data.csv', sep=';')\n",
        "df"
      ],
      "metadata": {
        "id": "yjZlzb8rnw4t"
      },
      "execution_count": null,
      "outputs": []
    },
    {
      "cell_type": "code",
      "source": [
        "df['clean'] = df['text'].apply(p.clean)\n",
        "df"
      ],
      "metadata": {
        "id": "MepkcfZinzeb"
      },
      "execution_count": null,
      "outputs": []
    },
    {
      "cell_type": "code",
      "source": [
        "df['clean'] = df['clean'].apply(lambda x:re.sub(r'[^\\w\\s]', '', str(x)))\n",
        "df"
      ],
      "metadata": {
        "id": "SECY_gZ0oFBm"
      },
      "execution_count": null,
      "outputs": []
    },
    {
      "cell_type": "code",
      "source": [
        "df['clean'] = df['clean'].apply(p.clean)\n",
        "df"
      ],
      "metadata": {
        "id": "ZMBerQOjoQc2"
      },
      "execution_count": null,
      "outputs": []
    },
    {
      "cell_type": "code",
      "source": [
        "df['clean'] = df['clean'].apply(lambda x: correction(str(x), cor=cor))\n",
        "df"
      ],
      "metadata": {
        "id": "VlLhjKAaoa8i"
      },
      "execution_count": null,
      "outputs": []
    },
    {
      "cell_type": "code",
      "source": [
        "df['clean'] = df['clean'].apply(lambda x: remove_stopword(str(x), STOP_WORDS))\n",
        "df"
      ],
      "metadata": {
        "id": "tmzwNwbFokHm"
      },
      "execution_count": null,
      "outputs": []
    }
  ]
}